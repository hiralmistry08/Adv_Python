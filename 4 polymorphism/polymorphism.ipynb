{
 "cells": [
  {
   "cell_type": "markdown",
   "metadata": {},
   "source": [
    "# assignment finidng all sides of triangle "
   ]
  },
  {
   "cell_type": "code",
   "execution_count": 2,
   "metadata": {},
   "outputs": [],
   "source": [
    "from dataclasses import dataclass\n",
    "from typing import Union"
   ]
  },
  {
   "cell_type": "code",
   "execution_count": 5,
   "metadata": {},
   "outputs": [],
   "source": [
    "@dataclass\n",
    "class Triangle:\n",
    "\n",
    "    a:Union[int, float]\n",
    "    b:Union[int, float]\n",
    "    c:Union[int, float]\n",
    "\n",
    "    def __post_init__(self):\n",
    "        errors=[]\n",
    "\n",
    "        if not isinstance(self.a, (int, float)) or self.a <=0:\n",
    "            errors.append(\"Side a should be positive\")\n",
    "        if not isinstance(self.b, (int, float)) or self.b <=0:\n",
    "            errors.append(\"Side b should be positive\")\n",
    "        if not isinstance(self.c,(int, float)) or self.c <=0:\n",
    "            errors.append(\"Side c should be positive\")\n",
    "        if not self.is_triangle():\n",
    "            errors.append(\"Sum of any two sides should always be greatermtha third\")\n",
    "        \n",
    "        if errors:\n",
    "            raise ValueError(\"\\n\".join(errors))\n",
    "    \n",
    "    def is_triangle(self):\n",
    "        if (\n",
    "            (self.a+self.b > self.c)\n",
    "            and (self.b+self.c > self.a)\n",
    "            and (self.a+self.c > self.b)\n",
    "        ):\n",
    "            return True\n",
    "        else:\n",
    "            return False\n",
    "    def perimeter(self):\n",
    "        return self.a+self.b+self.c\n",
    "    \n",
    "    def area(self):\n",
    "        s= self.perimeter() /2\n",
    "        return (s*(self.a) * (s- self.b) * (s- self.c)) ** (0.5)\n",
    "    "
   ]
  },
  {
   "cell_type": "code",
   "execution_count": 6,
   "metadata": {},
   "outputs": [],
   "source": [
    "t1=Triangle(4,6,8)"
   ]
  },
  {
   "cell_type": "code",
   "execution_count": 7,
   "metadata": {},
   "outputs": [
    {
     "data": {
      "text/plain": [
       "Triangle(a=4, b=6, c=8)"
      ]
     },
     "execution_count": 7,
     "metadata": {},
     "output_type": "execute_result"
    }
   ],
   "source": [
    "t1"
   ]
  },
  {
   "cell_type": "code",
   "execution_count": 8,
   "metadata": {},
   "outputs": [
    {
     "data": {
      "text/plain": [
       "True"
      ]
     },
     "execution_count": 8,
     "metadata": {},
     "output_type": "execute_result"
    }
   ],
   "source": [
    "t1.is_triangle()"
   ]
  },
  {
   "cell_type": "code",
   "execution_count": 9,
   "metadata": {},
   "outputs": [
    {
     "data": {
      "text/plain": [
       "18"
      ]
     },
     "execution_count": 9,
     "metadata": {},
     "output_type": "execute_result"
    }
   ],
   "source": [
    "\n",
    "t1.perimeter()"
   ]
  },
  {
   "cell_type": "code",
   "execution_count": 10,
   "metadata": {},
   "outputs": [
    {
     "data": {
      "text/plain": [
       "10.392304845413264"
      ]
     },
     "execution_count": 10,
     "metadata": {},
     "output_type": "execute_result"
    }
   ],
   "source": [
    "t1.area()"
   ]
  },
  {
   "cell_type": "markdown",
   "metadata": {},
   "source": [
    "# Polymorphism in functions"
   ]
  },
  {
   "cell_type": "code",
   "execution_count": null,
   "metadata": {},
   "outputs": [],
   "source": []
  },
  {
   "cell_type": "code",
   "execution_count": null,
   "metadata": {},
   "outputs": [],
   "source": []
  },
  {
   "cell_type": "code",
   "execution_count": null,
   "metadata": {},
   "outputs": [],
   "source": []
  },
  {
   "cell_type": "code",
   "execution_count": null,
   "metadata": {},
   "outputs": [],
   "source": []
  }
 ],
 "metadata": {
  "kernelspec": {
   "display_name": "venv",
   "language": "python",
   "name": "python3"
  },
  "language_info": {
   "codemirror_mode": {
    "name": "ipython",
    "version": 3
   },
   "file_extension": ".py",
   "mimetype": "text/x-python",
   "name": "python",
   "nbconvert_exporter": "python",
   "pygments_lexer": "ipython3",
   "version": "3.12.4"
  }
 },
 "nbformat": 4,
 "nbformat_minor": 2
}
